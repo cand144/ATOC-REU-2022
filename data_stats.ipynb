{
 "cells": [
  {
   "cell_type": "code",
   "execution_count": 1,
   "id": "895cb22b-7e2e-4ca6-8e63-5662e7767e45",
   "metadata": {},
   "outputs": [],
   "source": [
    "import scipy\n",
    "import xarray as xr\n",
    "import numpy as np\n",
    "import math\n",
    "import os"
   ]
  },
  {
   "cell_type": "code",
   "execution_count": 3,
   "id": "598c236f-38ed-4b98-a345-03c9c46e4bff",
   "metadata": {},
   "outputs": [
    {
     "name": "stdout",
     "output_type": "stream",
     "text": [
      "The northern hemisphere has an average maxima of 76.68850939265324 with a standard deviation of 1.2911956674651093\n",
      "The northern hemisphere has an average minima of 52.25548016573724 with a standard deviation of 0.15726948963951354\n",
      "The southern hemisphere has an average maxima of 75.06083926692959 with a standard deviation of 1.0994199787418386\n",
      "The southern hemisphere has an average minima of 46.81878542509044 with a standard deviation of 0.9067677888678095\n"
     ]
    }
   ],
   "source": [
    "years = []\n",
    "\n",
    "# For every file saved by means of data_import open to an xarray dataset and divide into northern and southern hemisphere and append to a list\n",
    "for file in os.listdir():\n",
    "    if file[-10:] == '0.0_ERB.nc':\n",
    "        n_weight = np.cos(np.deg2rad(xr.open_dataset(file).lat.sel(lat = slice(0,90))))\n",
    "        s_weight = np.cos(np.deg2rad(xr.open_dataset(file).lat.sel(lat = slice(-90,0))))\n",
    "        years.append(((xr.open_dataset(file).sel(lat = slice(0,90))*n_weight).mean('lat').mean('lon')))\n",
    "        years.append(((xr.open_dataset(file).sel(lat = slice(-90,0))*s_weight).mean('lat').mean('lon')))\n",
    "\n",
    "north_max = np.array([])\n",
    "north_min = np.array([])\n",
    "south_max = np.array([])\n",
    "south_min = np.array([])\n",
    "\n",
    "# For every slice in the list previously created, find the maximum and minumum total radiance values for that year and add to numpy array\n",
    "for i in range(len(years)):\n",
    "    # Northern slices were appended first and should be even numbers (aka multiple of 2)\n",
    "    if i % 2 == 0:\n",
    "        north_max = np.append(north_max,np.nanmax(years[i].SWrad+years[i].LWrad))\n",
    "        north_min = np.append(north_min,np.nanmin(years[i].SWrad+years[i].LWrad))\n",
    "    # Southern slices were appended second and should be odd numbers\n",
    "    else:\n",
    "        south_max = np.append(south_max,np.nanmax(years[i].SWrad+years[i].LWrad))\n",
    "        south_min = np.append(south_min,np.nanmin(years[i].SWrad+years[i].LWrad))\n",
    "        \n",
    "del years\n",
    "\n",
    "# Calculate standard deviation of all minima and maxima arrays\n",
    "nmax_std = np.std(north_max)\n",
    "nmin_std = np.std(north_min)\n",
    "smax_std = np.std(south_max)\n",
    "smin_std = np.std(south_min)\n",
    "\n",
    "# Calculate average of all minima and maxima arrays\n",
    "nmax_av = np.mean(north_max)\n",
    "nmin_av = np.mean(north_min)\n",
    "smax_av = np.mean(south_max)\n",
    "smin_av = np.mean(south_min)\n",
    "\n",
    "# Print desired values\n",
    "print('The northern hemisphere has an average maxima of',nmax_av,'with a standard deviation of',nmax_std)\n",
    "print('The northern hemisphere has an average minima of',nmin_av,'with a standard deviation of',nmin_std)\n",
    "print('The southern hemisphere has an average maxima of',smax_av,'with a standard deviation of',smax_std)\n",
    "print('The southern hemisphere has an average minima of',smin_av,'with a standard deviation of',smin_std)"
   ]
  },
  {
   "cell_type": "code",
   "execution_count": null,
   "id": "e22db59d-3c65-4ac1-aca0-ee8027a496cc",
   "metadata": {},
   "outputs": [],
   "source": []
  }
 ],
 "metadata": {
  "kernelspec": {
   "display_name": "Python [conda env:pangeo] *",
   "language": "python",
   "name": "conda-env-pangeo-py"
  },
  "language_info": {
   "codemirror_mode": {
    "name": "ipython",
    "version": 3
   },
   "file_extension": ".py",
   "mimetype": "text/x-python",
   "name": "python",
   "nbconvert_exporter": "python",
   "pygments_lexer": "ipython3",
   "version": "3.8.13"
  }
 },
 "nbformat": 4,
 "nbformat_minor": 5
}
